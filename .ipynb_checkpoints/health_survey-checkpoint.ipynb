{
 "cells": [
  {
   "cell_type": "markdown",
   "metadata": {},
   "source": [
    "# Title"
   ]
  },
  {
   "cell_type": "markdown",
   "metadata": {},
   "source": [
    "<a id='intro'></a>\n",
    "## Introduction\n",
    "\n",
    "> **Research has shown that the increase of food consumption can be due to coping mechanisms for stress or other mental health issues and has risen with the increase of technology in daily life.** \n",
    "\n",
    "The purpose of this study is "
   ]
  },
  {
   "cell_type": "markdown",
   "metadata": {},
   "source": [
    "### Contents:\n",
    "<ul>\n",
    "    <li><a href=\"#intro\">Introduction</a></li>\n",
    "    <li><a href=\"#source\">Data Source</a></li>\n",
    "    <li><a href=\"#wrangle\">Data Wrangling & Cleaning</a></li>\n",
    "    <li><a href=\"#explore\">Exploratory Data Analysis</a></li>\n",
    "        <ul>\n",
    "        <li><a href=\"#Q1\">Q1. How has the consumption of food per person (per day) changed over time throughout the world?</a></li>\n",
    "        <li><a href=\"#Q2\">Q2. Is consumption of food per person related by region of the world?</a></li>\n",
    "        <li><a href=\"#Q3\">Q3. Is there a correlation between the food consumption per person in a country with that country's rate of suicide?</a></li>\n",
    "        <li><a href=\"#Q4\">Q4. Is there a correlation between the food consumption per person in a country with the number of internet users in that country?</a></li>\n",
    "        </ul>\n",
    "    <li><a href=\"#summary\">Summary & Conclusions</a></li>\n",
    "</ul>"
   ]
  },
  {
   "cell_type": "markdown",
   "metadata": {},
   "source": [
    "<a id='source'></a>\n",
    "## Data Sources\n",
    "\n",
    "Access the README.md documentation regarding the specific source of the data used in this analysis. \n",
    "\n",
    "All the data was retrived through [Gapminder](http://www.gapminder.org). Gapminder is an independent Swedish foundation with no political, religious or economic affiliations.\n"
   ]
  },
  {
   "cell_type": "markdown",
   "metadata": {},
   "source": [
    "<a id='wrangle'></a>\n",
    "## Data Wrangling & Cleaning\n",
    "\n",
    "Before starting to analyze the data, the quality of the datasets downloaded from the Gapminder database is evaluated and then cleaned appropriately. First, various libaries are imported that will be used at different steps of this process and later with visualizations.   \n",
    "\n",
    "This is link to country_converter: https://github.com/konstantinstadler/country_converter"
   ]
  },
  {
   "cell_type": "code",
   "execution_count": 25,
   "metadata": {},
   "outputs": [],
   "source": [
    "import pandas as pd\n",
    "import numpy as np\n",
    "import matplotlib.pyplot as plt\n",
    "import seaborn as sns \n",
    "\n",
    "import pycountry # connects country names with country codes\n",
    "import country_converter as coco # connects country code with its continent \n",
    "\n",
    "%matplotlib inline"
   ]
  },
  {
   "cell_type": "markdown",
   "metadata": {},
   "source": [
    "#### Wrangling *population* and *foodsupply* raw datasets\n",
    "As hinted by the inital questions stated above, knowing the population numbers will be helpful to normalize to compare different datasets approprately. \n",
    "\n",
    "Since the purpose of this quanantative correlation study wants to explore relationships (if any) between the different data sets, it is important that there are consistent year ranges. First, the world population dataset is explored to understand its general properties."
   ]
  },
  {
   "cell_type": "code",
   "execution_count": 42,
   "metadata": {},
   "outputs": [
    {
     "data": {
      "text/html": [
       "<div>\n",
       "<style scoped>\n",
       "    .dataframe tbody tr th:only-of-type {\n",
       "        vertical-align: middle;\n",
       "    }\n",
       "\n",
       "    .dataframe tbody tr th {\n",
       "        vertical-align: top;\n",
       "    }\n",
       "\n",
       "    .dataframe thead th {\n",
       "        text-align: right;\n",
       "    }\n",
       "</style>\n",
       "<table border=\"1\" class=\"dataframe\">\n",
       "  <thead>\n",
       "    <tr style=\"text-align: right;\">\n",
       "      <th></th>\n",
       "      <th>country</th>\n",
       "      <th>1800</th>\n",
       "      <th>1801</th>\n",
       "      <th>1802</th>\n",
       "      <th>1803</th>\n",
       "      <th>1804</th>\n",
       "      <th>1805</th>\n",
       "      <th>1806</th>\n",
       "      <th>1807</th>\n",
       "      <th>1808</th>\n",
       "      <th>...</th>\n",
       "      <th>2091</th>\n",
       "      <th>2092</th>\n",
       "      <th>2093</th>\n",
       "      <th>2094</th>\n",
       "      <th>2095</th>\n",
       "      <th>2096</th>\n",
       "      <th>2097</th>\n",
       "      <th>2098</th>\n",
       "      <th>2099</th>\n",
       "      <th>2100</th>\n",
       "    </tr>\n",
       "  </thead>\n",
       "  <tbody>\n",
       "    <tr>\n",
       "      <th>0</th>\n",
       "      <td>Afghanistan</td>\n",
       "      <td>3280000</td>\n",
       "      <td>3280000</td>\n",
       "      <td>3280000</td>\n",
       "      <td>3280000</td>\n",
       "      <td>3280000</td>\n",
       "      <td>3280000</td>\n",
       "      <td>3280000</td>\n",
       "      <td>3280000</td>\n",
       "      <td>3280000</td>\n",
       "      <td>...</td>\n",
       "      <td>76600000</td>\n",
       "      <td>76400000</td>\n",
       "      <td>76300000</td>\n",
       "      <td>76100000</td>\n",
       "      <td>76000000</td>\n",
       "      <td>75800000</td>\n",
       "      <td>75600000</td>\n",
       "      <td>75400000</td>\n",
       "      <td>75200000</td>\n",
       "      <td>74900000</td>\n",
       "    </tr>\n",
       "    <tr>\n",
       "      <th>1</th>\n",
       "      <td>Albania</td>\n",
       "      <td>400000</td>\n",
       "      <td>402000</td>\n",
       "      <td>404000</td>\n",
       "      <td>405000</td>\n",
       "      <td>407000</td>\n",
       "      <td>409000</td>\n",
       "      <td>411000</td>\n",
       "      <td>413000</td>\n",
       "      <td>414000</td>\n",
       "      <td>...</td>\n",
       "      <td>1330000</td>\n",
       "      <td>1300000</td>\n",
       "      <td>1270000</td>\n",
       "      <td>1250000</td>\n",
       "      <td>1220000</td>\n",
       "      <td>1190000</td>\n",
       "      <td>1170000</td>\n",
       "      <td>1140000</td>\n",
       "      <td>1110000</td>\n",
       "      <td>1090000</td>\n",
       "    </tr>\n",
       "    <tr>\n",
       "      <th>2</th>\n",
       "      <td>Algeria</td>\n",
       "      <td>2500000</td>\n",
       "      <td>2510000</td>\n",
       "      <td>2520000</td>\n",
       "      <td>2530000</td>\n",
       "      <td>2540000</td>\n",
       "      <td>2550000</td>\n",
       "      <td>2560000</td>\n",
       "      <td>2560000</td>\n",
       "      <td>2570000</td>\n",
       "      <td>...</td>\n",
       "      <td>70400000</td>\n",
       "      <td>70500000</td>\n",
       "      <td>70500000</td>\n",
       "      <td>70600000</td>\n",
       "      <td>70700000</td>\n",
       "      <td>70700000</td>\n",
       "      <td>70700000</td>\n",
       "      <td>70700000</td>\n",
       "      <td>70700000</td>\n",
       "      <td>70700000</td>\n",
       "    </tr>\n",
       "  </tbody>\n",
       "</table>\n",
       "<p>3 rows × 302 columns</p>\n",
       "</div>"
      ],
      "text/plain": [
       "       country     1800     1801     1802     1803     1804     1805     1806  \\\n",
       "0  Afghanistan  3280000  3280000  3280000  3280000  3280000  3280000  3280000   \n",
       "1      Albania   400000   402000   404000   405000   407000   409000   411000   \n",
       "2      Algeria  2500000  2510000  2520000  2530000  2540000  2550000  2560000   \n",
       "\n",
       "      1807     1808  ...      2091      2092      2093      2094      2095  \\\n",
       "0  3280000  3280000  ...  76600000  76400000  76300000  76100000  76000000   \n",
       "1   413000   414000  ...   1330000   1300000   1270000   1250000   1220000   \n",
       "2  2560000  2570000  ...  70400000  70500000  70500000  70600000  70700000   \n",
       "\n",
       "       2096      2097      2098      2099      2100  \n",
       "0  75800000  75600000  75400000  75200000  74900000  \n",
       "1   1190000   1170000   1140000   1110000   1090000  \n",
       "2  70700000  70700000  70700000  70700000  70700000  \n",
       "\n",
       "[3 rows x 302 columns]"
      ]
     },
     "execution_count": 42,
     "metadata": {},
     "output_type": "execute_result"
    }
   ],
   "source": [
    "# read population csv\n",
    "df_population = pd.read_csv('population_total.csv')\n",
    "\n",
    "# view structure of dataset\n",
    "df_population.head(3)"
   ]
  },
  {
   "cell_type": "code",
   "execution_count": 39,
   "metadata": {},
   "outputs": [
    {
     "data": {
      "text/plain": [
       "(195, 302)"
      ]
     },
     "execution_count": 39,
     "metadata": {},
     "output_type": "execute_result"
    }
   ],
   "source": [
    "# understand the shape of population dataset\n",
    "df_population.shape"
   ]
  },
  {
   "cell_type": "markdown",
   "metadata": {},
   "source": [
    "The dataset on the consumption of food is primary to answering the questions drafted for this project. This is the next dataset explored after global population."
   ]
  },
  {
   "cell_type": "code",
   "execution_count": 22,
   "metadata": {},
   "outputs": [
    {
     "data": {
      "text/html": [
       "<div>\n",
       "<style scoped>\n",
       "    .dataframe tbody tr th:only-of-type {\n",
       "        vertical-align: middle;\n",
       "    }\n",
       "\n",
       "    .dataframe tbody tr th {\n",
       "        vertical-align: top;\n",
       "    }\n",
       "\n",
       "    .dataframe thead th {\n",
       "        text-align: right;\n",
       "    }\n",
       "</style>\n",
       "<table border=\"1\" class=\"dataframe\">\n",
       "  <thead>\n",
       "    <tr style=\"text-align: right;\">\n",
       "      <th></th>\n",
       "      <th>country</th>\n",
       "      <th>1961</th>\n",
       "      <th>1962</th>\n",
       "      <th>1963</th>\n",
       "      <th>1964</th>\n",
       "      <th>1965</th>\n",
       "      <th>1966</th>\n",
       "      <th>1967</th>\n",
       "      <th>1968</th>\n",
       "      <th>1969</th>\n",
       "      <th>...</th>\n",
       "      <th>2004</th>\n",
       "      <th>2005</th>\n",
       "      <th>2006</th>\n",
       "      <th>2007</th>\n",
       "      <th>2008</th>\n",
       "      <th>2009</th>\n",
       "      <th>2010</th>\n",
       "      <th>2011</th>\n",
       "      <th>2012</th>\n",
       "      <th>2013</th>\n",
       "    </tr>\n",
       "  </thead>\n",
       "  <tbody>\n",
       "    <tr>\n",
       "      <th>0</th>\n",
       "      <td>Afghanistan</td>\n",
       "      <td>3000.0</td>\n",
       "      <td>2920.0</td>\n",
       "      <td>2700.0</td>\n",
       "      <td>2950.0</td>\n",
       "      <td>2960.0</td>\n",
       "      <td>2740.0</td>\n",
       "      <td>2970.0</td>\n",
       "      <td>2920.0</td>\n",
       "      <td>2940.0</td>\n",
       "      <td>...</td>\n",
       "      <td>1970.0</td>\n",
       "      <td>1950.0</td>\n",
       "      <td>1970</td>\n",
       "      <td>2050</td>\n",
       "      <td>2040</td>\n",
       "      <td>2080</td>\n",
       "      <td>2100</td>\n",
       "      <td>2110</td>\n",
       "      <td>2100</td>\n",
       "      <td>2090</td>\n",
       "    </tr>\n",
       "    <tr>\n",
       "      <th>1</th>\n",
       "      <td>Albania</td>\n",
       "      <td>2220.0</td>\n",
       "      <td>2240.0</td>\n",
       "      <td>2160.0</td>\n",
       "      <td>2270.0</td>\n",
       "      <td>2250.0</td>\n",
       "      <td>2250.0</td>\n",
       "      <td>2260.0</td>\n",
       "      <td>2340.0</td>\n",
       "      <td>2400.0</td>\n",
       "      <td>...</td>\n",
       "      <td>2790.0</td>\n",
       "      <td>2870.0</td>\n",
       "      <td>2860</td>\n",
       "      <td>2860</td>\n",
       "      <td>2950</td>\n",
       "      <td>2990</td>\n",
       "      <td>3080</td>\n",
       "      <td>3130</td>\n",
       "      <td>3180</td>\n",
       "      <td>3190</td>\n",
       "    </tr>\n",
       "    <tr>\n",
       "      <th>2</th>\n",
       "      <td>Algeria</td>\n",
       "      <td>1620.0</td>\n",
       "      <td>1570.0</td>\n",
       "      <td>1530.0</td>\n",
       "      <td>1540.0</td>\n",
       "      <td>1590.0</td>\n",
       "      <td>1570.0</td>\n",
       "      <td>1650.0</td>\n",
       "      <td>1710.0</td>\n",
       "      <td>1710.0</td>\n",
       "      <td>...</td>\n",
       "      <td>2990.0</td>\n",
       "      <td>2960.0</td>\n",
       "      <td>3050</td>\n",
       "      <td>3040</td>\n",
       "      <td>3050</td>\n",
       "      <td>3110</td>\n",
       "      <td>3140</td>\n",
       "      <td>3220</td>\n",
       "      <td>3270</td>\n",
       "      <td>3300</td>\n",
       "    </tr>\n",
       "  </tbody>\n",
       "</table>\n",
       "<p>3 rows × 54 columns</p>\n",
       "</div>"
      ],
      "text/plain": [
       "       country    1961    1962    1963    1964    1965    1966    1967  \\\n",
       "0  Afghanistan  3000.0  2920.0  2700.0  2950.0  2960.0  2740.0  2970.0   \n",
       "1      Albania  2220.0  2240.0  2160.0  2270.0  2250.0  2250.0  2260.0   \n",
       "2      Algeria  1620.0  1570.0  1530.0  1540.0  1590.0  1570.0  1650.0   \n",
       "\n",
       "     1968    1969  ...    2004    2005  2006  2007  2008  2009  2010  2011  \\\n",
       "0  2920.0  2940.0  ...  1970.0  1950.0  1970  2050  2040  2080  2100  2110   \n",
       "1  2340.0  2400.0  ...  2790.0  2870.0  2860  2860  2950  2990  3080  3130   \n",
       "2  1710.0  1710.0  ...  2990.0  2960.0  3050  3040  3050  3110  3140  3220   \n",
       "\n",
       "   2012  2013  \n",
       "0  2100  2090  \n",
       "1  3180  3190  \n",
       "2  3270  3300  \n",
       "\n",
       "[3 rows x 54 columns]"
      ]
     },
     "execution_count": 22,
     "metadata": {},
     "output_type": "execute_result"
    }
   ],
   "source": [
    "# read food consumption csv\n",
    "df_foodsupply = pd.read_csv('food_supply_kilocalories_per_person_and_day.csv')\n",
    "\n",
    "# view structure of dataset\n",
    "df_foodsupply.head(3)"
   ]
  },
  {
   "cell_type": "code",
   "execution_count": 23,
   "metadata": {},
   "outputs": [
    {
     "data": {
      "text/plain": [
       "(168, 54)"
      ]
     },
     "execution_count": 23,
     "metadata": {},
     "output_type": "execute_result"
    }
   ],
   "source": [
    "# understand the shape of the foodsupply dataset\n",
    "df_foodsupply.shape"
   ]
  },
  {
   "cell_type": "markdown",
   "metadata": {},
   "source": [
    "The population dataset year range is much broader than the foodsupply. (Population has 301 years of data while Food Supply has 53.) It is important that both datasets have the same year ranges since comparisons will be made. Therefore the years out of the range of the foodsupply dataset will be removed from the population dataset.\n",
    "\n",
    "When exploring the dataset it was noted that there is data on future years in the population dataset. This raises a flag on the integrity of the data. Since the project is limited to Gapminder data - these columns will be deleted so the last column is 2013, similar to the foodsupply dataset."
   ]
  },
  {
   "cell_type": "code",
   "execution_count": 43,
   "metadata": {},
   "outputs": [
    {
     "data": {
      "text/plain": [
       "True"
      ]
     },
     "execution_count": 43,
     "metadata": {},
     "output_type": "execute_result"
    }
   ],
   "source": [
    "# remove years in population \n",
    "df_population.drop(df_population.loc[:,'1800':'1960'].columns, axis=1, inplace=True)\n",
    "df_population.drop(df_population.loc[:,'2014':'2100'].columns, axis=1, inplace=True)\n",
    "\n",
    "# confirm columns in both datasets match\n",
    "(df_population.columns == df_foodsupply.columns).all()"
   ]
  },
  {
   "cell_type": "markdown",
   "metadata": {},
   "source": [
    "#### Wrangling *suicide* and *internet* raw datasets\n",
    "The factor of number of suicide in each country as a measure of mental health and the number of internet users per country as a measure of the rise of technology in daily life, will be datasets used for analysis later on in conjunction with the population and food supply datasets. \n",
    "\n",
    "The previous actions done to population and foodsupply will be done with the suicide and internet data. "
   ]
  },
  {
   "cell_type": "code",
   "execution_count": 172,
   "metadata": {},
   "outputs": [
    {
     "data": {
      "text/html": [
       "<div>\n",
       "<style scoped>\n",
       "    .dataframe tbody tr th:only-of-type {\n",
       "        vertical-align: middle;\n",
       "    }\n",
       "\n",
       "    .dataframe tbody tr th {\n",
       "        vertical-align: top;\n",
       "    }\n",
       "\n",
       "    .dataframe thead th {\n",
       "        text-align: right;\n",
       "    }\n",
       "</style>\n",
       "<table border=\"1\" class=\"dataframe\">\n",
       "  <thead>\n",
       "    <tr style=\"text-align: right;\">\n",
       "      <th></th>\n",
       "      <th>country</th>\n",
       "      <th>1990</th>\n",
       "      <th>1991</th>\n",
       "      <th>1992</th>\n",
       "      <th>1993</th>\n",
       "      <th>1994</th>\n",
       "      <th>1995</th>\n",
       "      <th>1996</th>\n",
       "      <th>1997</th>\n",
       "      <th>1998</th>\n",
       "      <th>...</th>\n",
       "      <th>2007</th>\n",
       "      <th>2008</th>\n",
       "      <th>2009</th>\n",
       "      <th>2010</th>\n",
       "      <th>2011</th>\n",
       "      <th>2012</th>\n",
       "      <th>2013</th>\n",
       "      <th>2014</th>\n",
       "      <th>2015</th>\n",
       "      <th>2016</th>\n",
       "    </tr>\n",
       "  </thead>\n",
       "  <tbody>\n",
       "    <tr>\n",
       "      <th>0</th>\n",
       "      <td>Afghanistan</td>\n",
       "      <td>703.0</td>\n",
       "      <td>754.0</td>\n",
       "      <td>820.0</td>\n",
       "      <td>894.0</td>\n",
       "      <td>977.0</td>\n",
       "      <td>1050.0</td>\n",
       "      <td>1100.0</td>\n",
       "      <td>1130.0</td>\n",
       "      <td>1170.0</td>\n",
       "      <td>...</td>\n",
       "      <td>1680.0</td>\n",
       "      <td>1710.0</td>\n",
       "      <td>1750.0</td>\n",
       "      <td>1760.0</td>\n",
       "      <td>1810.0</td>\n",
       "      <td>1870.0</td>\n",
       "      <td>1990.0</td>\n",
       "      <td>2080.0</td>\n",
       "      <td>2170.0</td>\n",
       "      <td>2250.0</td>\n",
       "    </tr>\n",
       "    <tr>\n",
       "      <th>1</th>\n",
       "      <td>Albania</td>\n",
       "      <td>127.0</td>\n",
       "      <td>130.0</td>\n",
       "      <td>131.0</td>\n",
       "      <td>135.0</td>\n",
       "      <td>136.0</td>\n",
       "      <td>142.0</td>\n",
       "      <td>150.0</td>\n",
       "      <td>162.0</td>\n",
       "      <td>170.0</td>\n",
       "      <td>...</td>\n",
       "      <td>204.0</td>\n",
       "      <td>205.0</td>\n",
       "      <td>201.0</td>\n",
       "      <td>195.0</td>\n",
       "      <td>191.0</td>\n",
       "      <td>188.0</td>\n",
       "      <td>186.0</td>\n",
       "      <td>184.0</td>\n",
       "      <td>183.0</td>\n",
       "      <td>181.0</td>\n",
       "    </tr>\n",
       "    <tr>\n",
       "      <th>2</th>\n",
       "      <td>Algeria</td>\n",
       "      <td>806.0</td>\n",
       "      <td>822.0</td>\n",
       "      <td>843.0</td>\n",
       "      <td>866.0</td>\n",
       "      <td>888.0</td>\n",
       "      <td>912.0</td>\n",
       "      <td>941.0</td>\n",
       "      <td>983.0</td>\n",
       "      <td>1020.0</td>\n",
       "      <td>...</td>\n",
       "      <td>1240.0</td>\n",
       "      <td>1250.0</td>\n",
       "      <td>1270.0</td>\n",
       "      <td>1290.0</td>\n",
       "      <td>1310.0</td>\n",
       "      <td>1340.0</td>\n",
       "      <td>1370.0</td>\n",
       "      <td>1410.0</td>\n",
       "      <td>1420.0</td>\n",
       "      <td>1440.0</td>\n",
       "    </tr>\n",
       "  </tbody>\n",
       "</table>\n",
       "<p>3 rows × 28 columns</p>\n",
       "</div>"
      ],
      "text/plain": [
       "       country   1990   1991   1992   1993   1994    1995    1996    1997  \\\n",
       "0  Afghanistan  703.0  754.0  820.0  894.0  977.0  1050.0  1100.0  1130.0   \n",
       "1      Albania  127.0  130.0  131.0  135.0  136.0   142.0   150.0   162.0   \n",
       "2      Algeria  806.0  822.0  843.0  866.0  888.0   912.0   941.0   983.0   \n",
       "\n",
       "     1998  ...    2007    2008    2009    2010    2011    2012    2013  \\\n",
       "0  1170.0  ...  1680.0  1710.0  1750.0  1760.0  1810.0  1870.0  1990.0   \n",
       "1   170.0  ...   204.0   205.0   201.0   195.0   191.0   188.0   186.0   \n",
       "2  1020.0  ...  1240.0  1250.0  1270.0  1290.0  1310.0  1340.0  1370.0   \n",
       "\n",
       "     2014    2015    2016  \n",
       "0  2080.0  2170.0  2250.0  \n",
       "1   184.0   183.0   181.0  \n",
       "2  1410.0  1420.0  1440.0  \n",
       "\n",
       "[3 rows x 28 columns]"
      ]
     },
     "execution_count": 172,
     "metadata": {},
     "output_type": "execute_result"
    }
   ],
   "source": [
    "# read suicide csv\n",
    "df_suicide = pd.read_csv('suicide_total_deaths.csv')\n",
    "\n",
    "# view structure of dataset\n",
    "df_suicide.head(3)"
   ]
  },
  {
   "cell_type": "markdown",
   "metadata": {},
   "source": [
    "The year ranges for the population and foodsupply were 1961 - 2013.  Ideally, these other two measures will need comparable year ranges. Since foodsupply will be used compare to each of these, columns will be dropped to match to ensure foodsupply, internet users, and suicide numbers will show only the years of 1990-2013. \n",
    "\n",
    "Since the <a href=\"#Q1\">first question</a> of the analysis only looks at population and food supply a seperate merged table will be created that gives an expanded set of years."
   ]
  },
  {
   "cell_type": "code",
   "execution_count": 171,
   "metadata": {},
   "outputs": [
    {
     "data": {
      "text/html": [
       "<div>\n",
       "<style scoped>\n",
       "    .dataframe tbody tr th:only-of-type {\n",
       "        vertical-align: middle;\n",
       "    }\n",
       "\n",
       "    .dataframe tbody tr th {\n",
       "        vertical-align: top;\n",
       "    }\n",
       "\n",
       "    .dataframe thead th {\n",
       "        text-align: right;\n",
       "    }\n",
       "</style>\n",
       "<table border=\"1\" class=\"dataframe\">\n",
       "  <thead>\n",
       "    <tr style=\"text-align: right;\">\n",
       "      <th></th>\n",
       "      <th>country</th>\n",
       "      <th>1960</th>\n",
       "      <th>1961</th>\n",
       "      <th>1962</th>\n",
       "      <th>1963</th>\n",
       "      <th>1964</th>\n",
       "      <th>1965</th>\n",
       "      <th>1966</th>\n",
       "      <th>1967</th>\n",
       "      <th>1968</th>\n",
       "      <th>...</th>\n",
       "      <th>2010</th>\n",
       "      <th>2011</th>\n",
       "      <th>2012</th>\n",
       "      <th>2013</th>\n",
       "      <th>2014</th>\n",
       "      <th>2015</th>\n",
       "      <th>2016</th>\n",
       "      <th>2017</th>\n",
       "      <th>2018</th>\n",
       "      <th>2019</th>\n",
       "    </tr>\n",
       "  </thead>\n",
       "  <tbody>\n",
       "    <tr>\n",
       "      <th>0</th>\n",
       "      <td>Afghanistan</td>\n",
       "      <td>NaN</td>\n",
       "      <td>NaN</td>\n",
       "      <td>NaN</td>\n",
       "      <td>NaN</td>\n",
       "      <td>NaN</td>\n",
       "      <td>NaN</td>\n",
       "      <td>NaN</td>\n",
       "      <td>NaN</td>\n",
       "      <td>NaN</td>\n",
       "      <td>...</td>\n",
       "      <td>4.0</td>\n",
       "      <td>5.0</td>\n",
       "      <td>5.45</td>\n",
       "      <td>5.9</td>\n",
       "      <td>7.0</td>\n",
       "      <td>8.26</td>\n",
       "      <td>11.2</td>\n",
       "      <td>13.5</td>\n",
       "      <td>13.5</td>\n",
       "      <td>13.5</td>\n",
       "    </tr>\n",
       "    <tr>\n",
       "      <th>1</th>\n",
       "      <td>Albania</td>\n",
       "      <td>NaN</td>\n",
       "      <td>NaN</td>\n",
       "      <td>NaN</td>\n",
       "      <td>NaN</td>\n",
       "      <td>NaN</td>\n",
       "      <td>NaN</td>\n",
       "      <td>NaN</td>\n",
       "      <td>NaN</td>\n",
       "      <td>NaN</td>\n",
       "      <td>...</td>\n",
       "      <td>45.0</td>\n",
       "      <td>49.0</td>\n",
       "      <td>54.70</td>\n",
       "      <td>57.2</td>\n",
       "      <td>60.1</td>\n",
       "      <td>63.30</td>\n",
       "      <td>66.4</td>\n",
       "      <td>71.8</td>\n",
       "      <td>71.8</td>\n",
       "      <td>69.6</td>\n",
       "    </tr>\n",
       "    <tr>\n",
       "      <th>2</th>\n",
       "      <td>Algeria</td>\n",
       "      <td>NaN</td>\n",
       "      <td>NaN</td>\n",
       "      <td>NaN</td>\n",
       "      <td>NaN</td>\n",
       "      <td>NaN</td>\n",
       "      <td>NaN</td>\n",
       "      <td>NaN</td>\n",
       "      <td>NaN</td>\n",
       "      <td>NaN</td>\n",
       "      <td>...</td>\n",
       "      <td>12.5</td>\n",
       "      <td>14.9</td>\n",
       "      <td>18.20</td>\n",
       "      <td>22.5</td>\n",
       "      <td>29.5</td>\n",
       "      <td>38.20</td>\n",
       "      <td>42.9</td>\n",
       "      <td>47.7</td>\n",
       "      <td>59.6</td>\n",
       "      <td>59.6</td>\n",
       "    </tr>\n",
       "  </tbody>\n",
       "</table>\n",
       "<p>3 rows × 61 columns</p>\n",
       "</div>"
      ],
      "text/plain": [
       "       country  1960  1961  1962  1963  1964  1965  1966  1967  1968  ...  \\\n",
       "0  Afghanistan   NaN   NaN   NaN   NaN   NaN   NaN   NaN   NaN   NaN  ...   \n",
       "1      Albania   NaN   NaN   NaN   NaN   NaN   NaN   NaN   NaN   NaN  ...   \n",
       "2      Algeria   NaN   NaN   NaN   NaN   NaN   NaN   NaN   NaN   NaN  ...   \n",
       "\n",
       "   2010  2011   2012  2013  2014   2015  2016  2017  2018  2019  \n",
       "0   4.0   5.0   5.45   5.9   7.0   8.26  11.2  13.5  13.5  13.5  \n",
       "1  45.0  49.0  54.70  57.2  60.1  63.30  66.4  71.8  71.8  69.6  \n",
       "2  12.5  14.9  18.20  22.5  29.5  38.20  42.9  47.7  59.6  59.6  \n",
       "\n",
       "[3 rows x 61 columns]"
      ]
     },
     "execution_count": 171,
     "metadata": {},
     "output_type": "execute_result"
    }
   ],
   "source": [
    "# read internet csv\n",
    "df_internet = pd.read_csv('it_net_user_zs.csv')\n",
    "\n",
    "# view structure of dataset\n",
    "df_internet.head(3)"
   ]
  },
  {
   "cell_type": "markdown",
   "metadata": {},
   "source": [
    "At first glance above there might be several null values with the early years of Internet user table. The null values within the chart will be inspected more closely.    "
   ]
  },
  {
   "cell_type": "code",
   "execution_count": 168,
   "metadata": {},
   "outputs": [
    {
     "name": "stdout",
     "output_type": "stream",
     "text": [
      "<class 'pandas.core.frame.DataFrame'>\n",
      "RangeIndex: 194 entries, 0 to 193\n",
      "Data columns (total 61 columns):\n",
      " #   Column   Non-Null Count  Dtype  \n",
      "---  ------   --------------  -----  \n",
      " 0   country  194 non-null    object \n",
      " 1   1960     7 non-null      float64\n",
      " 2   1961     0 non-null      float64\n",
      " 3   1962     0 non-null      float64\n",
      " 4   1963     0 non-null      float64\n",
      " 5   1964     0 non-null      float64\n",
      " 6   1965     7 non-null      float64\n",
      " 7   1966     0 non-null      float64\n",
      " 8   1967     0 non-null      float64\n",
      " 9   1968     0 non-null      float64\n",
      " 10  1969     0 non-null      float64\n",
      " 11  1970     7 non-null      float64\n",
      " 12  1971     0 non-null      float64\n",
      " 13  1972     0 non-null      float64\n",
      " 14  1973     0 non-null      float64\n",
      " 15  1974     0 non-null      float64\n",
      " 16  1975     7 non-null      float64\n",
      " 17  1976     7 non-null      float64\n",
      " 18  1977     7 non-null      float64\n",
      " 19  1978     7 non-null      float64\n",
      " 20  1979     7 non-null      float64\n",
      " 21  1980     7 non-null      float64\n",
      " 22  1981     7 non-null      float64\n",
      " 23  1982     7 non-null      float64\n",
      " 24  1983     7 non-null      float64\n",
      " 25  1984     7 non-null      float64\n",
      " 26  1985     7 non-null      float64\n",
      " 27  1986     7 non-null      float64\n",
      " 28  1987     7 non-null      float64\n",
      " 29  1988     7 non-null      float64\n",
      " 30  1989     8 non-null      float64\n",
      " 31  1990     191 non-null    float64\n",
      " 32  1991     191 non-null    float64\n",
      " 33  1992     191 non-null    float64\n",
      " 34  1993     191 non-null    float64\n",
      " 35  1994     191 non-null    float64\n",
      " 36  1995     191 non-null    float64\n",
      " 37  1996     160 non-null    float64\n",
      " 38  1997     173 non-null    float64\n",
      " 39  1998     177 non-null    float64\n",
      " 40  1999     182 non-null    float64\n",
      " 41  2000     186 non-null    float64\n",
      " 42  2001     189 non-null    float64\n",
      " 43  2002     191 non-null    float64\n",
      " 44  2003     191 non-null    float64\n",
      " 45  2004     193 non-null    float64\n",
      " 46  2005     193 non-null    float64\n",
      " 47  2006     192 non-null    float64\n",
      " 48  2007     192 non-null    float64\n",
      " 49  2008     192 non-null    float64\n",
      " 50  2009     192 non-null    float64\n",
      " 51  2010     191 non-null    float64\n",
      " 52  2011     192 non-null    float64\n",
      " 53  2012     192 non-null    float64\n",
      " 54  2013     193 non-null    float64\n",
      " 55  2014     193 non-null    float64\n",
      " 56  2015     193 non-null    float64\n",
      " 57  2016     193 non-null    float64\n",
      " 58  2017     193 non-null    float64\n",
      " 59  2018     192 non-null    float64\n",
      " 60  2019     193 non-null    float64\n",
      "dtypes: float64(60), object(1)\n",
      "memory usage: 92.6+ KB\n"
     ]
    }
   ],
   "source": [
    "# exploring null values for years in internet users\n",
    "df_internet.info()"
   ]
  },
  {
   "cell_type": "markdown",
   "metadata": {},
   "source": [
    "There are several null values 1960-1989. Keeping the range of 1990 - 2013 which matches with the numbers of suicides will work well for analysis. Both datasets will have years dropped outside of the range of 1990-2013. "
   ]
  },
  {
   "cell_type": "code",
   "execution_count": 173,
   "metadata": {},
   "outputs": [
    {
     "data": {
      "text/plain": [
       "True"
      ]
     },
     "execution_count": 173,
     "metadata": {},
     "output_type": "execute_result"
    }
   ],
   "source": [
    "# remove unneeded year columns in internet dataset\n",
    "df_internet.drop(df_internet.loc[:,'1960':'1989'].columns, axis=1, inplace=True)\n",
    "df_internet.drop(df_internet.loc[:,'2014':'2019'].columns, axis=1, inplace=True)\n",
    "\n",
    "# remove unneeded year columns in suicide dataset\n",
    "df_suicide.drop(df_suicide.loc[:,'2014':'2016'].columns, axis=1, inplace=True)\n",
    "\n",
    "# confirm columns in both datasets match\n",
    "(df_internet.columns == df_suicide.columns).all()"
   ]
  },
  {
   "cell_type": "code",
   "execution_count": null,
   "metadata": {},
   "outputs": [],
   "source": [
    "#### Dropping Unique Countries\n",
    "All 4 datasets will have all the same countries. "
   ]
  },
  {
   "cell_type": "markdown",
   "metadata": {},
   "source": [
    "#### Cleaning datasets"
   ]
  },
  {
   "cell_type": "code",
   "execution_count": null,
   "metadata": {},
   "outputs": [],
   "source": [
    "def missing_values(df, column):\n",
    "    \"\"\"\n",
    "    Identifies what values are not contained in individual rows (missing data per country)\n",
    "    \n",
    "    Args:\n",
    "        (dataframe) df: \n",
    "        (str) column: \n",
    "    Return:\n",
    "        (list) missing_countries: list of missing countries\n",
    "    \"\"\"\n",
    "    list1 = list(df.country.unique())\n",
    "    list2 = list(df.dropna)\n",
    "    list3 = [x for x in list11 if x not in list2]\n",
    "    list3.sort()\n",
    "    \n",
    "    return list3"
   ]
  },
  {
   "cell_type": "code",
   "execution_count": null,
   "metadata": {},
   "outputs": [],
   "source": [
    ".info() \n",
    "make sure everything is in the correct type"
   ]
  },
  {
   "cell_type": "code",
   "execution_count": null,
   "metadata": {},
   "outputs": [],
   "source": [
    "def data_details\n",
    "    \"\"\"\n",
    "    Provides some summary data for each column in df to help with cleaning\n",
    "    \n",
    "    ARGS:\n",
    "    RETURN:\n",
    "    \"\"\"\n",
    "    print(\"=\"*6,\"  DUPLICATES  \",\"=\"*6)\n",
    "    print(\"Number of duplicated rows:\", sum(df.duplicated()),\"\\n\")\n",
    "    \n",
    "    print(\"=\"*6,\"  MAX & MIN VALUES  \",\"=\"*6)\n",
    "\n",
    "    print(\"=\"*6,\"  DUPLICATES  \",\"=\"*6)\n",
    "\n",
    "    print(\"=\"*6,\"  DUPLICATES  \",\"=\"*6)\n"
   ]
  },
  {
   "cell_type": "markdown",
   "metadata": {},
   "source": [
    "Although the columns of years allow good opportunity for comparison, creating a 'year' column with multiple listings for each country will lend better to visualizations and aggregations later in the project. Therefore the [melt panda](https://pandas.pydata.org/docs/reference/api/pandas.melt.html) function will be used so that each year will be an individual row and sorted by country and year. \n",
    "\n",
    "A function is written below that will be able to be applied to other dataframes in the future. The function will take two or more dataframes, individually melt it and then merge. After merging, it sorts by year and country. This will be used for faciliate the process for future dataframes as well since all data is gathered from Gapminder share similar formats."
   ]
  },
  {
   "cell_type": "code",
   "execution_count": null,
   "metadata": {},
   "outputs": [],
   "source": [
    "def df_melt(dfs, col, file):\n",
    "    \"\"\"\n",
    "    Uses panda melt arrange Gapminder data in better format; sorts by year and country. \n",
    "    \n",
    "    Args:\n",
    "        (dataframe) df: list of dataframes\n",
    "        (str) col: value columns names will use\n",
    "    \n",
    "    Returns:\n",
    "        (dataframe) df_melt : dataframe containing the merged df formatted for analysis\n",
    "    \"\"\"\n",
    "    \n",
    "    df_melt_{}.f{file} \n",
    "    \n",
    "        "
   ]
  },
  {
   "cell_type": "code",
   "execution_count": null,
   "metadata": {},
   "outputs": [],
   "source": [
    "# confirm successful completion of \n"
   ]
  },
  {
   "cell_type": "code",
   "execution_count": null,
   "metadata": {},
   "outputs": [],
   "source": [
    "df_suicide = "
   ]
  },
  {
   "cell_type": "code",
   "execution_count": null,
   "metadata": {},
   "outputs": [],
   "source": [
    "dfs = [df_suicide, internet_use]\n",
    "col = ['suicide', 'internet_use']\n",
    "\n",
    "df_merge = "
   ]
  },
  {
   "cell_type": "code",
   "execution_count": null,
   "metadata": {},
   "outputs": [],
   "source": [
    "# confirm changes and view df\n",
    "df_population_melt.head(2)"
   ]
  },
  {
   "cell_type": "code",
   "execution_count": null,
   "metadata": {},
   "outputs": [],
   "source": [
    "# looking for any missing values in df\n",
    "df_population_melt.info()"
   ]
  },
  {
   "cell_type": "markdown",
   "metadata": {},
   "source": [
    "The same procedures outlined above is repeated for the datasets on numbers of suicide per country each year and the number of number of internet users "
   ]
  },
  {
   "cell_type": "code",
   "execution_count": null,
   "metadata": {},
   "outputs": [],
   "source": []
  },
  {
   "cell_type": "markdown",
   "metadata": {},
   "source": [
    "<a id='explore'></a>\n",
    "## Exploratory Data Analysis"
   ]
  },
  {
   "cell_type": "markdown",
   "metadata": {},
   "source": [
    "<a id='Q1'></a>\n",
    "### Q1. How has the consumption of food per person (per day) changed over time throughout the world?"
   ]
  },
  {
   "cell_type": "code",
   "execution_count": null,
   "metadata": {},
   "outputs": [],
   "source": []
  },
  {
   "cell_type": "markdown",
   "metadata": {},
   "source": [
    "<a id='Q2'></a>\n",
    "### Q2. How has the world's population changed over the same time period above?"
   ]
  },
  {
   "cell_type": "markdown",
   "metadata": {},
   "source": [
    "<a id='Q3'></a>\n",
    "### Q3"
   ]
  },
  {
   "cell_type": "markdown",
   "metadata": {},
   "source": [
    "<a id='Q4'></a>\n",
    "### Q4"
   ]
  },
  {
   "cell_type": "markdown",
   "metadata": {},
   "source": [
    "<a id='summary'></a>\n",
    "## Summary & Conclusions"
   ]
  }
 ],
 "metadata": {
  "kernelspec": {
   "display_name": "Python 3",
   "language": "python",
   "name": "python3"
  },
  "language_info": {
   "codemirror_mode": {
    "name": "ipython",
    "version": 3
   },
   "file_extension": ".py",
   "mimetype": "text/x-python",
   "name": "python",
   "nbconvert_exporter": "python",
   "pygments_lexer": "ipython3",
   "version": "3.8.5"
  }
 },
 "nbformat": 4,
 "nbformat_minor": 4
}
